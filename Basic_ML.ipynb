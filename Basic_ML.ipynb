{
  "nbformat": 4,
  "nbformat_minor": 0,
  "metadata": {
    "colab": {
      "name": "Basic.ML",
      "provenance": [],
      "include_colab_link": true
    },
    "kernelspec": {
      "name": "python3",
      "display_name": "Python 3"
    },
    "language_info": {
      "name": "python"
    }
  },
  "cells": [
    {
      "cell_type": "markdown",
      "metadata": {
        "id": "view-in-github",
        "colab_type": "text"
      },
      "source": [
        "<a href=\"https://colab.research.google.com/github/RatnaShekar11/Basic-ML/blob/main/Basic_ML.ipynb\" target=\"_parent\"><img src=\"https://colab.research.google.com/assets/colab-badge.svg\" alt=\"Open In Colab\"/></a>"
      ]
    },
    {
      "cell_type": "markdown",
      "metadata": {
        "id": "gCedKzIq0vLs"
      },
      "source": [
        " **1.Python** **program** **to** **check** **wheather** **given** **number** **is** **prime** **or** **not** **:**"
      ]
    },
    {
      "cell_type": "code",
      "metadata": {
        "id": "bqUa6HKm0kxL",
        "colab": {
          "base_uri": "https://localhost:8080/"
        },
        "outputId": "3d2b1a8f-aae9-418b-d1f7-1cd9decdefdb"
      },
      "source": [
        " a = int(input(\"Enter a number: \"))\n",
        " \n",
        " \n",
        "if a > 1:\n",
        "   \n",
        "   for i in range(2,a):\n",
        "       if (a % i) == 0:\n",
        "           print(a,\"is not a prime number\")\n",
        "           \n",
        "           break\n",
        "   else:\n",
        "       print(a,\"is a prime number\")\n",
        "       \n",
        "else:\n",
        "   print(a,\"is not a prime number\")"
      ],
      "execution_count": null,
      "outputs": [
        {
          "output_type": "stream",
          "text": [
            "Enter a number: 45\n",
            "45 is not a prime number\n"
          ],
          "name": "stdout"
        }
      ]
    },
    {
      "cell_type": "markdown",
      "metadata": {
        "id": "wULA-6Av3RpU"
      },
      "source": [
        " Here we can find wheather the given number is prime or not by using python.When the user gives number as a input then the program execute and gives us an output as prime number or not a prime number.In the above problem we given 45 as a input and as it is not a prime number the output shows us as not a prime number"
      ]
    },
    {
      "cell_type": "markdown",
      "metadata": {
        "id": "bOcxyg5q4w-W"
      },
      "source": [
        " **2.Python Program for finding factorial:**"
      ]
    },
    {
      "cell_type": "code",
      "metadata": {
        "colab": {
          "base_uri": "https://localhost:8080/"
        },
        "id": "YyyAaolF6raR",
        "outputId": "ddf75c28-f4ad-4f7a-d74f-33618593a03d"
      },
      "source": [
        " num=int(input())\n",
        " \n",
        "factorial = 1\n",
        " \n",
        "if num < 0:\n",
        "   print(\"factorial does not exist for negative numbers\")\n",
        "elif num == 0:\n",
        "   print(\"The factorial of 0 is 1\")\n",
        "else:\n",
        "   for i in range(1,num + 1):\n",
        "       factorial = factorial*i\n",
        "   print(\"The factorial of\",num,\"is\",factorial)"
      ],
      "execution_count": null,
      "outputs": [
        {
          "output_type": "stream",
          "text": [
            "10\n",
            "The factorial of 10 is 3628800\n"
          ],
          "name": "stdout"
        }
      ]
    },
    {
      "cell_type": "markdown",
      "metadata": {
        "id": "hT64N1Ou8zNy"
      },
      "source": [
        " Here we can find the factorial of any given number with help of python.When the user gives input the above program executes and give the calculated answer that is factorial. If the number is negative,zero or positive using if-elif-else statement.And if the number is positive range() function is used to calculate for the required output"
      ]
    },
    {
      "cell_type": "markdown",
      "metadata": {
        "id": "h4Ijc_as7FBt"
      },
      "source": [
        " **3.Python program for finding sum of N natural numbers:**"
      ]
    },
    {
      "cell_type": "code",
      "metadata": {
        "colab": {
          "base_uri": "https://localhost:8080/"
        },
        "id": "0tcT5OLI706m",
        "outputId": "f9b8a667-cb36-476b-eb2a-c069fcbdf46b"
      },
      "source": [
        " num =int(input())\n",
        " \n",
        "if num < 0:\n",
        "   print(\"Enter a positive number\")\n",
        "else:\n",
        "   sum = 0\n",
        "   \n",
        "   while(num > 0):\n",
        "       sum += num\n",
        "       num -= 1\n",
        "   print(\"The sum is\", sum)"
      ],
      "execution_count": null,
      "outputs": [
        {
          "output_type": "stream",
          "text": [
            "6\n",
            "The sum is 21\n"
          ],
          "name": "stdout"
        }
      ]
    },
    {
      "cell_type": "markdown",
      "metadata": {
        "id": "JHIov8Ht_Gw4"
      },
      "source": [
        "Here we can find the sum of first N natural number for different values keep changing the values of n.Initially the sum is equal to zero and number is stored in value n.Then we used while loop to find the required output."
      ]
    }
  ]
}